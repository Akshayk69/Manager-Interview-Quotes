{
 "cells": [
  {
   "cell_type": "code",
   "execution_count": 49,
   "metadata": {},
   "outputs": [],
   "source": [
    "import pandas as pd\n",
    "from tqdm import tqdm\n",
    "from bs4 import BeautifulSoup\n",
    "import requests\n",
    "import numpy as np"
   ]
  },
  {
   "cell_type": "code",
   "execution_count": 50,
   "metadata": {},
   "outputs": [],
   "source": [
    "url='https://devtomanager.com/interviews/page/{}/'"
   ]
  },
  {
   "cell_type": "code",
   "execution_count": 51,
   "metadata": {},
   "outputs": [],
   "source": [
    "def interview():\n",
    "    name=[i.find('a',class_='text-reset').text.strip().split(',')[0] for i in con]\n",
    "    job=[i.find('a',class_='text-reset').text.strip().split(',')[1] for i in con]\n",
    "    jo=[i.split('at')[0] for i in job]\n",
    "    company=[]\n",
    "    for i in job:\n",
    "        try:\n",
    "            company.append(i.split(' at')[1])\n",
    "        except:\n",
    "            company.append(np.nan)\n",
    "    text=[i.find('p',class_='card-text').text.strip() for i in con]\n",
    "    dummy=[hmm[i].text.strip() for i in range(1,10,2)]\n",
    "    date=[i.split('\\n')[0] for i in dummy]\n",
    "    tags=[i.split()[4:] for i in dummy]\n",
    "    return pd.DataFrame({'Employee Name':name,'Job Position':jo,'Company':company,'Interview quote':text,'Date':date,'Tags':tags})"
   ]
  },
  {
   "cell_type": "code",
   "execution_count": 52,
   "metadata": {},
   "outputs": [
    {
     "name": "stderr",
     "output_type": "stream",
     "text": [
      "100%|████████████████████████████████████████████████████████████████████████████████████| 5/5 [00:01<00:00,  2.63it/s]\n"
     ]
    }
   ],
   "source": [
    "tables=[]\n",
    "for i in tqdm(range(1,6)):\n",
    "    urls=url.format(i)\n",
    "    html=requests.get(urls).text\n",
    "    soup=BeautifulSoup(html,'lxml')\n",
    "    con=soup.find_all('div',class_=\"col-md-8\")\n",
    "    hmm=soup.find_all('p',class_='card-text')\n",
    "    tables.append(interview())"
   ]
  },
  {
   "cell_type": "code",
   "execution_count": 53,
   "metadata": {},
   "outputs": [
    {
     "data": {
      "text/html": [
       "<div>\n",
       "<style scoped>\n",
       "    .dataframe tbody tr th:only-of-type {\n",
       "        vertical-align: middle;\n",
       "    }\n",
       "\n",
       "    .dataframe tbody tr th {\n",
       "        vertical-align: top;\n",
       "    }\n",
       "\n",
       "    .dataframe thead th {\n",
       "        text-align: right;\n",
       "    }\n",
       "</style>\n",
       "<table border=\"1\" class=\"dataframe\">\n",
       "  <thead>\n",
       "    <tr style=\"text-align: right;\">\n",
       "      <th></th>\n",
       "      <th>Employee Name</th>\n",
       "      <th>Job Position</th>\n",
       "      <th>Company</th>\n",
       "      <th>Interview quote</th>\n",
       "      <th>Date</th>\n",
       "      <th>Tags</th>\n",
       "    </tr>\n",
       "  </thead>\n",
       "  <tbody>\n",
       "    <tr>\n",
       "      <th>0</th>\n",
       "      <td>Aviv Ben-Yosef</td>\n",
       "      <td>Tech Executive Consultant</td>\n",
       "      <td>NaN</td>\n",
       "      <td>“I want to set up managers to succeed, no matt...</td>\n",
       "      <td>August 16, 2021</td>\n",
       "      <td>[#coaching, #consulting]</td>\n",
       "    </tr>\n",
       "    <tr>\n",
       "      <th>1</th>\n",
       "      <td>Anand Safi</td>\n",
       "      <td>Engineering Manager</td>\n",
       "      <td>Mark43</td>\n",
       "      <td>“I very well understand where my interests lie...</td>\n",
       "      <td>July 19, 2021</td>\n",
       "      <td>[#coaching, #frontend, #full-stack, #public-sa...</td>\n",
       "    </tr>\n",
       "    <tr>\n",
       "      <th>2</th>\n",
       "      <td>Shawn Axsom</td>\n",
       "      <td>Senior Engineering Manager</td>\n",
       "      <td>Docker</td>\n",
       "      <td>“Your focus (and challenges) grows from your d...</td>\n",
       "      <td>July 05, 2021</td>\n",
       "      <td>[#backend, #coaching, #information-systems, #web]</td>\n",
       "    </tr>\n",
       "    <tr>\n",
       "      <th>3</th>\n",
       "      <td>Kevin Doyle</td>\n",
       "      <td>CTO</td>\n",
       "      <td>patientMpower</td>\n",
       "      <td>“If I can provide enough direction to allow pe...</td>\n",
       "      <td>June 21, 2021</td>\n",
       "      <td>[#full-stack, #health-tech]</td>\n",
       "    </tr>\n",
       "    <tr>\n",
       "      <th>4</th>\n",
       "      <td>Arnab Sen</td>\n",
       "      <td>Technical Delivery Manager</td>\n",
       "      <td>AKQA</td>\n",
       "      <td>“The switch to management can be highly reward...</td>\n",
       "      <td>May 10, 2021</td>\n",
       "      <td>[#consulting, #digital-marketing, #e-commerce,...</td>\n",
       "    </tr>\n",
       "  </tbody>\n",
       "</table>\n",
       "</div>"
      ],
      "text/plain": [
       "    Employee Name                  Job Position         Company  \\\n",
       "0  Aviv Ben-Yosef     Tech Executive Consultant             NaN   \n",
       "1      Anand Safi          Engineering Manager           Mark43   \n",
       "2     Shawn Axsom   Senior Engineering Manager           Docker   \n",
       "3     Kevin Doyle                          CTO    patientMpower   \n",
       "4       Arnab Sen   Technical Delivery Manager             AKQA   \n",
       "\n",
       "                                     Interview quote             Date  \\\n",
       "0  “I want to set up managers to succeed, no matt...  August 16, 2021   \n",
       "1  “I very well understand where my interests lie...    July 19, 2021   \n",
       "2  “Your focus (and challenges) grows from your d...    July 05, 2021   \n",
       "3  “If I can provide enough direction to allow pe...    June 21, 2021   \n",
       "4  “The switch to management can be highly reward...     May 10, 2021   \n",
       "\n",
       "                                                Tags  \n",
       "0                           [#coaching, #consulting]  \n",
       "1  [#coaching, #frontend, #full-stack, #public-sa...  \n",
       "2  [#backend, #coaching, #information-systems, #web]  \n",
       "3                        [#full-stack, #health-tech]  \n",
       "4  [#consulting, #digital-marketing, #e-commerce,...  "
      ]
     },
     "execution_count": 53,
     "metadata": {},
     "output_type": "execute_result"
    }
   ],
   "source": [
    "interview=pd.concat(tables,axis=0)\n",
    "interview.head()"
   ]
  },
  {
   "cell_type": "code",
   "execution_count": 54,
   "metadata": {},
   "outputs": [
    {
     "data": {
      "text/html": [
       "<div>\n",
       "<style scoped>\n",
       "    .dataframe tbody tr th:only-of-type {\n",
       "        vertical-align: middle;\n",
       "    }\n",
       "\n",
       "    .dataframe tbody tr th {\n",
       "        vertical-align: top;\n",
       "    }\n",
       "\n",
       "    .dataframe thead th {\n",
       "        text-align: right;\n",
       "    }\n",
       "</style>\n",
       "<table border=\"1\" class=\"dataframe\">\n",
       "  <thead>\n",
       "    <tr style=\"text-align: right;\">\n",
       "      <th></th>\n",
       "      <th>Employee Name</th>\n",
       "      <th>Job Position</th>\n",
       "      <th>Company</th>\n",
       "      <th>Interview quote</th>\n",
       "      <th>Date</th>\n",
       "      <th>Tags</th>\n",
       "    </tr>\n",
       "  </thead>\n",
       "  <tbody>\n",
       "    <tr>\n",
       "      <th>0</th>\n",
       "      <td>Dhimil Gosalia</td>\n",
       "      <td>Director of Engineering</td>\n",
       "      <td>BrowserStack</td>\n",
       "      <td>“What I enjoy the most is solving problems. I ...</td>\n",
       "      <td>August 24, 2020</td>\n",
       "      <td>[#infrastructure, #mobile, #network-engineerin...</td>\n",
       "    </tr>\n",
       "    <tr>\n",
       "      <th>1</th>\n",
       "      <td>Daniel Millington</td>\n",
       "      <td>Engineering Manager</td>\n",
       "      <td>Samsara</td>\n",
       "      <td>“When I’m able to see engineers on my teams ta...</td>\n",
       "      <td>August 10, 2020</td>\n",
       "      <td>[#embedded-systems, #infrastructure, #internet...</td>\n",
       "    </tr>\n",
       "    <tr>\n",
       "      <th>2</th>\n",
       "      <td>Dhruv Agarwal</td>\n",
       "      <td>Engineering Manager</td>\n",
       "      <td>Shuttl</td>\n",
       "      <td>“Always think about the larger picture and not...</td>\n",
       "      <td>July 27, 2020</td>\n",
       "      <td>[#product, #web]</td>\n",
       "    </tr>\n",
       "    <tr>\n",
       "      <th>3</th>\n",
       "      <td>Swaathi Kakarla</td>\n",
       "      <td>Co-founder &amp; CTO</td>\n",
       "      <td>Skcript</td>\n",
       "      <td>“People management is not like giving instruct...</td>\n",
       "      <td>July 13, 2020</td>\n",
       "      <td>[#elixir, #product, #ruby-on-rails, #web]</td>\n",
       "    </tr>\n",
       "    <tr>\n",
       "      <th>4</th>\n",
       "      <td>Mark Shropshire</td>\n",
       "      <td>Senior Director of Development</td>\n",
       "      <td>Mediacurrent</td>\n",
       "      <td>“You can lead in your current role. No need to...</td>\n",
       "      <td>June 29, 2020</td>\n",
       "      <td>[#mentorship, #open-source]</td>\n",
       "    </tr>\n",
       "  </tbody>\n",
       "</table>\n",
       "</div>"
      ],
      "text/plain": [
       "       Employee Name                      Job Position        Company  \\\n",
       "0     Dhimil Gosalia          Director of Engineering    BrowserStack   \n",
       "1  Daniel Millington              Engineering Manager         Samsara   \n",
       "2      Dhruv Agarwal              Engineering Manager          Shuttl   \n",
       "3    Swaathi Kakarla                 Co-founder & CTO         Skcript   \n",
       "4    Mark Shropshire   Senior Director of Development    Mediacurrent   \n",
       "\n",
       "                                     Interview quote             Date  \\\n",
       "0  “What I enjoy the most is solving problems. I ...  August 24, 2020   \n",
       "1  “When I’m able to see engineers on my teams ta...  August 10, 2020   \n",
       "2  “Always think about the larger picture and not...    July 27, 2020   \n",
       "3  “People management is not like giving instruct...    July 13, 2020   \n",
       "4  “You can lead in your current role. No need to...    June 29, 2020   \n",
       "\n",
       "                                                Tags  \n",
       "0  [#infrastructure, #mobile, #network-engineerin...  \n",
       "1  [#embedded-systems, #infrastructure, #internet...  \n",
       "2                                   [#product, #web]  \n",
       "3          [#elixir, #product, #ruby-on-rails, #web]  \n",
       "4                        [#mentorship, #open-source]  "
      ]
     },
     "execution_count": 54,
     "metadata": {},
     "output_type": "execute_result"
    }
   ],
   "source": [
    "interview.tail()"
   ]
  },
  {
   "cell_type": "code",
   "execution_count": 55,
   "metadata": {},
   "outputs": [
    {
     "data": {
      "text/html": [
       "<div>\n",
       "<style scoped>\n",
       "    .dataframe tbody tr th:only-of-type {\n",
       "        vertical-align: middle;\n",
       "    }\n",
       "\n",
       "    .dataframe tbody tr th {\n",
       "        vertical-align: top;\n",
       "    }\n",
       "\n",
       "    .dataframe thead th {\n",
       "        text-align: right;\n",
       "    }\n",
       "</style>\n",
       "<table border=\"1\" class=\"dataframe\">\n",
       "  <thead>\n",
       "    <tr style=\"text-align: right;\">\n",
       "      <th></th>\n",
       "      <th>Employee Name</th>\n",
       "      <th>Job Position</th>\n",
       "      <th>Company</th>\n",
       "      <th>Interview quote</th>\n",
       "      <th>Date</th>\n",
       "      <th>Tags</th>\n",
       "    </tr>\n",
       "  </thead>\n",
       "  <tbody>\n",
       "    <tr>\n",
       "      <th>0</th>\n",
       "      <td>Aviv Ben-Yosef</td>\n",
       "      <td>Tech Executive Consultant</td>\n",
       "      <td>NaN</td>\n",
       "      <td>“I want to set up managers to succeed, no matt...</td>\n",
       "      <td>August 16, 2021</td>\n",
       "      <td>[#coaching, #consulting]</td>\n",
       "    </tr>\n",
       "    <tr>\n",
       "      <th>1</th>\n",
       "      <td>Anand Safi</td>\n",
       "      <td>Engineering Manager</td>\n",
       "      <td>Mark43</td>\n",
       "      <td>“I very well understand where my interests lie...</td>\n",
       "      <td>July 19, 2021</td>\n",
       "      <td>[#coaching, #frontend, #full-stack, #public-sa...</td>\n",
       "    </tr>\n",
       "    <tr>\n",
       "      <th>2</th>\n",
       "      <td>Shawn Axsom</td>\n",
       "      <td>Senior Engineering Manager</td>\n",
       "      <td>Docker</td>\n",
       "      <td>“Your focus (and challenges) grows from your d...</td>\n",
       "      <td>July 05, 2021</td>\n",
       "      <td>[#backend, #coaching, #information-systems, #web]</td>\n",
       "    </tr>\n",
       "    <tr>\n",
       "      <th>3</th>\n",
       "      <td>Kevin Doyle</td>\n",
       "      <td>CTO</td>\n",
       "      <td>patientMpower</td>\n",
       "      <td>“If I can provide enough direction to allow pe...</td>\n",
       "      <td>June 21, 2021</td>\n",
       "      <td>[#full-stack, #health-tech]</td>\n",
       "    </tr>\n",
       "    <tr>\n",
       "      <th>4</th>\n",
       "      <td>Arnab Sen</td>\n",
       "      <td>Technical Delivery Manager</td>\n",
       "      <td>AKQA</td>\n",
       "      <td>“The switch to management can be highly reward...</td>\n",
       "      <td>May 10, 2021</td>\n",
       "      <td>[#consulting, #digital-marketing, #e-commerce,...</td>\n",
       "    </tr>\n",
       "  </tbody>\n",
       "</table>\n",
       "</div>"
      ],
      "text/plain": [
       "    Employee Name                  Job Position         Company  \\\n",
       "0  Aviv Ben-Yosef     Tech Executive Consultant             NaN   \n",
       "1      Anand Safi          Engineering Manager           Mark43   \n",
       "2     Shawn Axsom   Senior Engineering Manager           Docker   \n",
       "3     Kevin Doyle                          CTO    patientMpower   \n",
       "4       Arnab Sen   Technical Delivery Manager             AKQA   \n",
       "\n",
       "                                     Interview quote             Date  \\\n",
       "0  “I want to set up managers to succeed, no matt...  August 16, 2021   \n",
       "1  “I very well understand where my interests lie...    July 19, 2021   \n",
       "2  “Your focus (and challenges) grows from your d...    July 05, 2021   \n",
       "3  “If I can provide enough direction to allow pe...    June 21, 2021   \n",
       "4  “The switch to management can be highly reward...     May 10, 2021   \n",
       "\n",
       "                                                Tags  \n",
       "0                           [#coaching, #consulting]  \n",
       "1  [#coaching, #frontend, #full-stack, #public-sa...  \n",
       "2  [#backend, #coaching, #information-systems, #web]  \n",
       "3                        [#full-stack, #health-tech]  \n",
       "4  [#consulting, #digital-marketing, #e-commerce,...  "
      ]
     },
     "execution_count": 55,
     "metadata": {},
     "output_type": "execute_result"
    }
   ],
   "source": [
    "interview.head()"
   ]
  },
  {
   "cell_type": "code",
   "execution_count": 56,
   "metadata": {},
   "outputs": [],
   "source": [
    "interview.to_csv('Interview.csv')"
   ]
  },
  {
   "cell_type": "code",
   "execution_count": 57,
   "metadata": {},
   "outputs": [
    {
     "data": {
      "text/html": [
       "<div>\n",
       "<style scoped>\n",
       "    .dataframe tbody tr th:only-of-type {\n",
       "        vertical-align: middle;\n",
       "    }\n",
       "\n",
       "    .dataframe tbody tr th {\n",
       "        vertical-align: top;\n",
       "    }\n",
       "\n",
       "    .dataframe thead th {\n",
       "        text-align: right;\n",
       "    }\n",
       "</style>\n",
       "<table border=\"1\" class=\"dataframe\">\n",
       "  <thead>\n",
       "    <tr style=\"text-align: right;\">\n",
       "      <th></th>\n",
       "      <th>Unnamed: 0</th>\n",
       "      <th>Employee Name</th>\n",
       "      <th>Job Position</th>\n",
       "      <th>Company</th>\n",
       "      <th>Interview quote</th>\n",
       "      <th>Date</th>\n",
       "      <th>Tags</th>\n",
       "    </tr>\n",
       "  </thead>\n",
       "  <tbody>\n",
       "    <tr>\n",
       "      <th>0</th>\n",
       "      <td>0</td>\n",
       "      <td>Aviv Ben-Yosef</td>\n",
       "      <td>Tech Executive Consultant</td>\n",
       "      <td>NaN</td>\n",
       "      <td>“I want to set up managers to succeed, no matt...</td>\n",
       "      <td>August 16, 2021</td>\n",
       "      <td>['#coaching', '#consulting']</td>\n",
       "    </tr>\n",
       "    <tr>\n",
       "      <th>1</th>\n",
       "      <td>1</td>\n",
       "      <td>Anand Safi</td>\n",
       "      <td>Engineering Manager</td>\n",
       "      <td>Mark43</td>\n",
       "      <td>“I very well understand where my interests lie...</td>\n",
       "      <td>July 19, 2021</td>\n",
       "      <td>['#coaching', '#frontend', '#full-stack', '#pu...</td>\n",
       "    </tr>\n",
       "    <tr>\n",
       "      <th>2</th>\n",
       "      <td>2</td>\n",
       "      <td>Shawn Axsom</td>\n",
       "      <td>Senior Engineering Manager</td>\n",
       "      <td>Docker</td>\n",
       "      <td>“Your focus (and challenges) grows from your d...</td>\n",
       "      <td>July 05, 2021</td>\n",
       "      <td>['#backend', '#coaching', '#information-system...</td>\n",
       "    </tr>\n",
       "    <tr>\n",
       "      <th>3</th>\n",
       "      <td>3</td>\n",
       "      <td>Kevin Doyle</td>\n",
       "      <td>CTO</td>\n",
       "      <td>patientMpower</td>\n",
       "      <td>“If I can provide enough direction to allow pe...</td>\n",
       "      <td>June 21, 2021</td>\n",
       "      <td>['#full-stack', '#health-tech']</td>\n",
       "    </tr>\n",
       "    <tr>\n",
       "      <th>4</th>\n",
       "      <td>4</td>\n",
       "      <td>Arnab Sen</td>\n",
       "      <td>Technical Delivery Manager</td>\n",
       "      <td>AKQA</td>\n",
       "      <td>“The switch to management can be highly reward...</td>\n",
       "      <td>May 10, 2021</td>\n",
       "      <td>['#consulting', '#digital-marketing', '#e-comm...</td>\n",
       "    </tr>\n",
       "  </tbody>\n",
       "</table>\n",
       "</div>"
      ],
      "text/plain": [
       "   Unnamed: 0   Employee Name                  Job Position         Company  \\\n",
       "0           0  Aviv Ben-Yosef     Tech Executive Consultant             NaN   \n",
       "1           1      Anand Safi          Engineering Manager           Mark43   \n",
       "2           2     Shawn Axsom   Senior Engineering Manager           Docker   \n",
       "3           3     Kevin Doyle                          CTO    patientMpower   \n",
       "4           4       Arnab Sen   Technical Delivery Manager             AKQA   \n",
       "\n",
       "                                     Interview quote             Date  \\\n",
       "0  “I want to set up managers to succeed, no matt...  August 16, 2021   \n",
       "1  “I very well understand where my interests lie...    July 19, 2021   \n",
       "2  “Your focus (and challenges) grows from your d...    July 05, 2021   \n",
       "3  “If I can provide enough direction to allow pe...    June 21, 2021   \n",
       "4  “The switch to management can be highly reward...     May 10, 2021   \n",
       "\n",
       "                                                Tags  \n",
       "0                       ['#coaching', '#consulting']  \n",
       "1  ['#coaching', '#frontend', '#full-stack', '#pu...  \n",
       "2  ['#backend', '#coaching', '#information-system...  \n",
       "3                    ['#full-stack', '#health-tech']  \n",
       "4  ['#consulting', '#digital-marketing', '#e-comm...  "
      ]
     },
     "execution_count": 57,
     "metadata": {},
     "output_type": "execute_result"
    }
   ],
   "source": [
    "data=pd.read_csv('Interview.csv')\n",
    "data.head()"
   ]
  },
  {
   "cell_type": "code",
   "execution_count": 58,
   "metadata": {},
   "outputs": [
    {
     "data": {
      "text/plain": [
       "(25, 7)"
      ]
     },
     "execution_count": 58,
     "metadata": {},
     "output_type": "execute_result"
    }
   ],
   "source": [
    "data.shape"
   ]
  },
  {
   "cell_type": "code",
   "execution_count": 59,
   "metadata": {},
   "outputs": [
    {
     "data": {
      "text/plain": [
       "False    25\n",
       "dtype: int64"
      ]
     },
     "execution_count": 59,
     "metadata": {},
     "output_type": "execute_result"
    }
   ],
   "source": [
    "data.duplicated().value_counts()"
   ]
  },
  {
   "cell_type": "code",
   "execution_count": 60,
   "metadata": {},
   "outputs": [
    {
     "data": {
      "text/plain": [
       "Index(['Unnamed: 0', 'Employee Name', 'Job Position', 'Company',\n",
       "       'Interview quote', 'Date', 'Tags'],\n",
       "      dtype='object')"
      ]
     },
     "execution_count": 60,
     "metadata": {},
     "output_type": "execute_result"
    }
   ],
   "source": [
    "data.columns"
   ]
  },
  {
   "cell_type": "code",
   "execution_count": 61,
   "metadata": {},
   "outputs": [
    {
     "data": {
      "text/html": [
       "<div>\n",
       "<style scoped>\n",
       "    .dataframe tbody tr th:only-of-type {\n",
       "        vertical-align: middle;\n",
       "    }\n",
       "\n",
       "    .dataframe tbody tr th {\n",
       "        vertical-align: top;\n",
       "    }\n",
       "\n",
       "    .dataframe thead th {\n",
       "        text-align: right;\n",
       "    }\n",
       "</style>\n",
       "<table border=\"1\" class=\"dataframe\">\n",
       "  <thead>\n",
       "    <tr style=\"text-align: right;\">\n",
       "      <th></th>\n",
       "      <th>Employee Name</th>\n",
       "      <th>Job Position</th>\n",
       "      <th>Company</th>\n",
       "      <th>Interview quote</th>\n",
       "      <th>Date</th>\n",
       "      <th>Tags</th>\n",
       "    </tr>\n",
       "  </thead>\n",
       "  <tbody>\n",
       "    <tr>\n",
       "      <th>0</th>\n",
       "      <td>Aviv Ben-Yosef</td>\n",
       "      <td>Tech Executive Consultant</td>\n",
       "      <td>NaN</td>\n",
       "      <td>“I want to set up managers to succeed, no matt...</td>\n",
       "      <td>August 16, 2021</td>\n",
       "      <td>['#coaching', '#consulting']</td>\n",
       "    </tr>\n",
       "    <tr>\n",
       "      <th>1</th>\n",
       "      <td>Anand Safi</td>\n",
       "      <td>Engineering Manager</td>\n",
       "      <td>Mark43</td>\n",
       "      <td>“I very well understand where my interests lie...</td>\n",
       "      <td>July 19, 2021</td>\n",
       "      <td>['#coaching', '#frontend', '#full-stack', '#pu...</td>\n",
       "    </tr>\n",
       "    <tr>\n",
       "      <th>2</th>\n",
       "      <td>Shawn Axsom</td>\n",
       "      <td>Senior Engineering Manager</td>\n",
       "      <td>Docker</td>\n",
       "      <td>“Your focus (and challenges) grows from your d...</td>\n",
       "      <td>July 05, 2021</td>\n",
       "      <td>['#backend', '#coaching', '#information-system...</td>\n",
       "    </tr>\n",
       "    <tr>\n",
       "      <th>3</th>\n",
       "      <td>Kevin Doyle</td>\n",
       "      <td>CTO</td>\n",
       "      <td>patientMpower</td>\n",
       "      <td>“If I can provide enough direction to allow pe...</td>\n",
       "      <td>June 21, 2021</td>\n",
       "      <td>['#full-stack', '#health-tech']</td>\n",
       "    </tr>\n",
       "    <tr>\n",
       "      <th>4</th>\n",
       "      <td>Arnab Sen</td>\n",
       "      <td>Technical Delivery Manager</td>\n",
       "      <td>AKQA</td>\n",
       "      <td>“The switch to management can be highly reward...</td>\n",
       "      <td>May 10, 2021</td>\n",
       "      <td>['#consulting', '#digital-marketing', '#e-comm...</td>\n",
       "    </tr>\n",
       "  </tbody>\n",
       "</table>\n",
       "</div>"
      ],
      "text/plain": [
       "    Employee Name                  Job Position         Company  \\\n",
       "0  Aviv Ben-Yosef     Tech Executive Consultant             NaN   \n",
       "1      Anand Safi          Engineering Manager           Mark43   \n",
       "2     Shawn Axsom   Senior Engineering Manager           Docker   \n",
       "3     Kevin Doyle                          CTO    patientMpower   \n",
       "4       Arnab Sen   Technical Delivery Manager             AKQA   \n",
       "\n",
       "                                     Interview quote             Date  \\\n",
       "0  “I want to set up managers to succeed, no matt...  August 16, 2021   \n",
       "1  “I very well understand where my interests lie...    July 19, 2021   \n",
       "2  “Your focus (and challenges) grows from your d...    July 05, 2021   \n",
       "3  “If I can provide enough direction to allow pe...    June 21, 2021   \n",
       "4  “The switch to management can be highly reward...     May 10, 2021   \n",
       "\n",
       "                                                Tags  \n",
       "0                       ['#coaching', '#consulting']  \n",
       "1  ['#coaching', '#frontend', '#full-stack', '#pu...  \n",
       "2  ['#backend', '#coaching', '#information-system...  \n",
       "3                    ['#full-stack', '#health-tech']  \n",
       "4  ['#consulting', '#digital-marketing', '#e-comm...  "
      ]
     },
     "execution_count": 61,
     "metadata": {},
     "output_type": "execute_result"
    }
   ],
   "source": [
    "data.drop(columns=['Unnamed: 0'],inplace=True)\n",
    "data.head()"
   ]
  },
  {
   "cell_type": "code",
   "execution_count": 62,
   "metadata": {},
   "outputs": [
    {
     "name": "stdout",
     "output_type": "stream",
     "text": [
      "<class 'pandas.core.frame.DataFrame'>\n",
      "RangeIndex: 25 entries, 0 to 24\n",
      "Data columns (total 6 columns):\n",
      " #   Column           Non-Null Count  Dtype \n",
      "---  ------           --------------  ----- \n",
      " 0   Employee Name    25 non-null     object\n",
      " 1   Job Position     25 non-null     object\n",
      " 2   Company          24 non-null     object\n",
      " 3   Interview quote  25 non-null     object\n",
      " 4   Date             25 non-null     object\n",
      " 5   Tags             25 non-null     object\n",
      "dtypes: object(6)\n",
      "memory usage: 1.3+ KB\n"
     ]
    }
   ],
   "source": [
    "data.info()"
   ]
  },
  {
   "cell_type": "code",
   "execution_count": 63,
   "metadata": {},
   "outputs": [],
   "source": [
    "data['Date']=pd.to_datetime(data['Date'])"
   ]
  },
  {
   "cell_type": "code",
   "execution_count": 64,
   "metadata": {},
   "outputs": [
    {
     "data": {
      "text/html": [
       "<div>\n",
       "<style scoped>\n",
       "    .dataframe tbody tr th:only-of-type {\n",
       "        vertical-align: middle;\n",
       "    }\n",
       "\n",
       "    .dataframe tbody tr th {\n",
       "        vertical-align: top;\n",
       "    }\n",
       "\n",
       "    .dataframe thead th {\n",
       "        text-align: right;\n",
       "    }\n",
       "</style>\n",
       "<table border=\"1\" class=\"dataframe\">\n",
       "  <thead>\n",
       "    <tr style=\"text-align: right;\">\n",
       "      <th></th>\n",
       "      <th>Employee Name</th>\n",
       "      <th>Job Position</th>\n",
       "      <th>Company</th>\n",
       "      <th>Interview quote</th>\n",
       "      <th>Date</th>\n",
       "      <th>Tags</th>\n",
       "    </tr>\n",
       "  </thead>\n",
       "  <tbody>\n",
       "    <tr>\n",
       "      <th>0</th>\n",
       "      <td>Aviv Ben-Yosef</td>\n",
       "      <td>Tech Executive Consultant</td>\n",
       "      <td>NaN</td>\n",
       "      <td>“I want to set up managers to succeed, no matt...</td>\n",
       "      <td>2021-08-16</td>\n",
       "      <td>['#coaching', '#consulting']</td>\n",
       "    </tr>\n",
       "    <tr>\n",
       "      <th>1</th>\n",
       "      <td>Anand Safi</td>\n",
       "      <td>Engineering Manager</td>\n",
       "      <td>Mark43</td>\n",
       "      <td>“I very well understand where my interests lie...</td>\n",
       "      <td>2021-07-19</td>\n",
       "      <td>['#coaching', '#frontend', '#full-stack', '#pu...</td>\n",
       "    </tr>\n",
       "    <tr>\n",
       "      <th>2</th>\n",
       "      <td>Shawn Axsom</td>\n",
       "      <td>Senior Engineering Manager</td>\n",
       "      <td>Docker</td>\n",
       "      <td>“Your focus (and challenges) grows from your d...</td>\n",
       "      <td>2021-07-05</td>\n",
       "      <td>['#backend', '#coaching', '#information-system...</td>\n",
       "    </tr>\n",
       "    <tr>\n",
       "      <th>3</th>\n",
       "      <td>Kevin Doyle</td>\n",
       "      <td>CTO</td>\n",
       "      <td>patientMpower</td>\n",
       "      <td>“If I can provide enough direction to allow pe...</td>\n",
       "      <td>2021-06-21</td>\n",
       "      <td>['#full-stack', '#health-tech']</td>\n",
       "    </tr>\n",
       "    <tr>\n",
       "      <th>4</th>\n",
       "      <td>Arnab Sen</td>\n",
       "      <td>Technical Delivery Manager</td>\n",
       "      <td>AKQA</td>\n",
       "      <td>“The switch to management can be highly reward...</td>\n",
       "      <td>2021-05-10</td>\n",
       "      <td>['#consulting', '#digital-marketing', '#e-comm...</td>\n",
       "    </tr>\n",
       "  </tbody>\n",
       "</table>\n",
       "</div>"
      ],
      "text/plain": [
       "    Employee Name                  Job Position         Company  \\\n",
       "0  Aviv Ben-Yosef     Tech Executive Consultant             NaN   \n",
       "1      Anand Safi          Engineering Manager           Mark43   \n",
       "2     Shawn Axsom   Senior Engineering Manager           Docker   \n",
       "3     Kevin Doyle                          CTO    patientMpower   \n",
       "4       Arnab Sen   Technical Delivery Manager             AKQA   \n",
       "\n",
       "                                     Interview quote       Date  \\\n",
       "0  “I want to set up managers to succeed, no matt... 2021-08-16   \n",
       "1  “I very well understand where my interests lie... 2021-07-19   \n",
       "2  “Your focus (and challenges) grows from your d... 2021-07-05   \n",
       "3  “If I can provide enough direction to allow pe... 2021-06-21   \n",
       "4  “The switch to management can be highly reward... 2021-05-10   \n",
       "\n",
       "                                                Tags  \n",
       "0                       ['#coaching', '#consulting']  \n",
       "1  ['#coaching', '#frontend', '#full-stack', '#pu...  \n",
       "2  ['#backend', '#coaching', '#information-system...  \n",
       "3                    ['#full-stack', '#health-tech']  \n",
       "4  ['#consulting', '#digital-marketing', '#e-comm...  "
      ]
     },
     "execution_count": 64,
     "metadata": {},
     "output_type": "execute_result"
    }
   ],
   "source": [
    "data.head()"
   ]
  },
  {
   "cell_type": "code",
   "execution_count": 65,
   "metadata": {},
   "outputs": [
    {
     "name": "stdout",
     "output_type": "stream",
     "text": [
      "<class 'pandas.core.frame.DataFrame'>\n",
      "RangeIndex: 25 entries, 0 to 24\n",
      "Data columns (total 6 columns):\n",
      " #   Column           Non-Null Count  Dtype         \n",
      "---  ------           --------------  -----         \n",
      " 0   Employee Name    25 non-null     object        \n",
      " 1   Job Position     25 non-null     object        \n",
      " 2   Company          24 non-null     object        \n",
      " 3   Interview quote  25 non-null     object        \n",
      " 4   Date             25 non-null     datetime64[ns]\n",
      " 5   Tags             25 non-null     object        \n",
      "dtypes: datetime64[ns](1), object(5)\n",
      "memory usage: 1.3+ KB\n"
     ]
    }
   ],
   "source": [
    "data.info()"
   ]
  },
  {
   "cell_type": "code",
   "execution_count": 66,
   "metadata": {},
   "outputs": [],
   "source": [
    "data['Tags']=data['Tags'].astype('category')"
   ]
  },
  {
   "cell_type": "code",
   "execution_count": 67,
   "metadata": {},
   "outputs": [
    {
     "name": "stdout",
     "output_type": "stream",
     "text": [
      "<class 'pandas.core.frame.DataFrame'>\n",
      "RangeIndex: 25 entries, 0 to 24\n",
      "Data columns (total 6 columns):\n",
      " #   Column           Non-Null Count  Dtype         \n",
      "---  ------           --------------  -----         \n",
      " 0   Employee Name    25 non-null     object        \n",
      " 1   Job Position     25 non-null     object        \n",
      " 2   Company          24 non-null     object        \n",
      " 3   Interview quote  25 non-null     object        \n",
      " 4   Date             25 non-null     datetime64[ns]\n",
      " 5   Tags             25 non-null     category      \n",
      "dtypes: category(1), datetime64[ns](1), object(4)\n",
      "memory usage: 1.9+ KB\n"
     ]
    }
   ],
   "source": [
    "data.info()"
   ]
  },
  {
   "cell_type": "code",
   "execution_count": 68,
   "metadata": {},
   "outputs": [],
   "source": [
    "data.to_csv('Final_csv_Interview.csv')"
   ]
  }
 ],
 "metadata": {
  "kernelspec": {
   "display_name": "Python 3",
   "language": "python",
   "name": "python3"
  },
  "language_info": {
   "codemirror_mode": {
    "name": "ipython",
    "version": 3
   },
   "file_extension": ".py",
   "mimetype": "text/x-python",
   "name": "python",
   "nbconvert_exporter": "python",
   "pygments_lexer": "ipython3",
   "version": "3.8.5"
  }
 },
 "nbformat": 4,
 "nbformat_minor": 4
}
